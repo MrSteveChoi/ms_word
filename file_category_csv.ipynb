{
 "cells": [
  {
   "cell_type": "markdown",
   "metadata": {},
   "source": [
    "# 파일 카테고리를 dataframe으로 자동 변환"
   ]
  },
  {
   "cell_type": "code",
   "execution_count": 83,
   "metadata": {},
   "outputs": [
    {
     "name": "stdout",
     "output_type": "stream",
     "text": [
      "['Math_HL_1B_Thermal energy transfer_TZ0_P01.docx', 'Math_HL_1B_Thermal energy transfer_TZ0_P02.docx', 'Math_HL_1B_Thermal energy transfer_TZ0_P03.docx', 'Math_HL_1B_Thermal energy transfer_TZ0_P04.docx', 'Math_HL_1B_Thermal energy transfer_TZ0_P05.docx']\n"
     ]
    }
   ],
   "source": [
    "import os\n",
    "import pandas as pd\n",
    "\n",
    "# file_list = os.listdir(\"D:/YearDreamSchool-D/python_projects/msword_pjt/word_files/test_word\")\n",
    "file_list = os.listdir(\"D:/YearDreamSchool-D/python_projects/msword_pjt/split\")\n",
    "\n",
    "print(file_list)"
   ]
  },
  {
   "cell_type": "code",
   "execution_count": 84,
   "metadata": {},
   "outputs": [
    {
     "name": "stdout",
     "output_type": "stream",
     "text": [
      "Math_HL_1B_Thermal energy transfer_TZ0_P01.docx\n"
     ]
    }
   ],
   "source": [
    "test_file = file_list[0]\n",
    "\n",
    "\n",
    "full_file_name = test_file\n",
    "\n",
    "print(full_file_name)"
   ]
  },
  {
   "cell_type": "code",
   "execution_count": 85,
   "metadata": {},
   "outputs": [
    {
     "data": {
      "text/plain": [
       "['Math', 'HL', '1B', 'Thermal energy transfer', 'TZ0', 'P01.docx']"
      ]
     },
     "execution_count": 85,
     "metadata": {},
     "output_type": "execute_result"
    }
   ],
   "source": [
    "test_file.split(\"_\")"
   ]
  },
  {
   "cell_type": "code",
   "execution_count": 86,
   "metadata": {},
   "outputs": [],
   "source": [
    "# 문제 형식[1A, 1B, 2]\n",
    "# 1A : 객관식 \n",
    "# 1B : data 해석 문제 \n",
    "# 2 : 주관식\n",
    "# question_type = {\"1A\", \"1B\", \"2\"}\n",
    "question_type_set = {\"A1\", \"B1\", \"2\"}\n",
    "\n",
    "# SL -> 레벨 나눠놓은거 \n",
    "# SL : standard level 탐구로 치면 사탐1 과탐1 정도 \n",
    "# HL : high level 사탐2 과탐2 정도 느낌\n",
    "question_level_set = {\"SL\", \"HL\"}\n",
    "\n",
    "# TZ0 -> Timezone \n",
    "# time zone 이라고 전세계가 시험보는거라 시차에 따라서 \n",
    "# TZ0 TZ1 TZ2 이렇게 나눠져\n",
    "time_zone_set = {\"TZ0\", \"TZ1\", \"TZ2\"}\n",
    "\n",
    "# 과목\n",
    "# 맨 처음([0])\n",
    "subject_set = {\"Phy\", \"Math\"}\n",
    "\n",
    "# 문제 번호\n",
    "# 맨 마지막([-1])\n",
    "# MS일 경우 답지"
   ]
  },
  {
   "cell_type": "code",
   "execution_count": 87,
   "metadata": {},
   "outputs": [
    {
     "data": {
      "text/html": [
       "<div>\n",
       "<style scoped>\n",
       "    .dataframe tbody tr th:only-of-type {\n",
       "        vertical-align: middle;\n",
       "    }\n",
       "\n",
       "    .dataframe tbody tr th {\n",
       "        vertical-align: top;\n",
       "    }\n",
       "\n",
       "    .dataframe thead th {\n",
       "        text-align: right;\n",
       "    }\n",
       "</style>\n",
       "<table border=\"1\" class=\"dataframe\">\n",
       "  <thead>\n",
       "    <tr style=\"text-align: right;\">\n",
       "      <th></th>\n",
       "      <th>file_name</th>\n",
       "      <th>subject</th>\n",
       "      <th>q_number</th>\n",
       "      <th>q_type</th>\n",
       "      <th>q_level</th>\n",
       "      <th>time_zone</th>\n",
       "    </tr>\n",
       "  </thead>\n",
       "  <tbody>\n",
       "  </tbody>\n",
       "</table>\n",
       "</div>"
      ],
      "text/plain": [
       "Empty DataFrame\n",
       "Columns: [file_name, subject, q_number, q_type, q_level, time_zone]\n",
       "Index: []"
      ]
     },
     "execution_count": 87,
     "metadata": {},
     "output_type": "execute_result"
    }
   ],
   "source": [
    "\"\"\"\n",
    "full_file_name = 'Phy_HL_A1_Kinematics_p1.docx'\n",
    "full_file_name = 'Phy_HL_A1_Kinematics_p1_MS.docx'\n",
    "\n",
    "print(full_file_name)\n",
    "print(subject)\n",
    "print(question_number)\n",
    "print(question_type)\n",
    "print(question_level)\n",
    "print(time_zone)\n",
    "\"\"\"\n",
    "\n",
    "df = pd.DataFrame(columns=[\"file_name\", \"subject\", \"q_number\", \"q_type\", \"q_level\", \"time_zone\"])\n",
    "\n",
    "df"
   ]
  },
  {
   "cell_type": "code",
   "execution_count": 54,
   "metadata": {},
   "outputs": [
    {
     "name": "stdout",
     "output_type": "stream",
     "text": [
      "['Phy', 'HL', 'A1', 'Kinematics', 'Z0', 'p1.docx']\n",
      "['Phy', 'HL', 'A1', 'Kinematics', 'Z0', 'p1']\n"
     ]
    }
   ],
   "source": [
    "split_file_name = full_file_name.split(\"_\")\n",
    "split_file_name_os = os.path.splitext(full_file_name)[0].split(\"_\")\n",
    "\n",
    "print(split_file_name)\n",
    "print(split_file_name_os)"
   ]
  },
  {
   "cell_type": "code",
   "execution_count": 93,
   "metadata": {},
   "outputs": [],
   "source": [
    "### ---- 정답지 일 때 ----\n",
    "# if split_file_name_os[-1] == \"MS\":\n",
    "#     is_answer = True\n",
    "#     question_file = \"\".join([\"_\".join(split_file_name_os), \".docx\"])\n",
    "\n",
    "\n",
    "### ---- 문제파일 일 때 ----\n",
    "file_list = os.listdir(\"D:/YearDreamSchool-D/python_projects/msword_pjt/word_files/test_word\")\n",
    "# file_list = os.listdir(\"D:/YearDreamSchool-D/python_projects/msword_pjt/split\")\n",
    "\n",
    "for file in file_list:\n",
    "    full_file_name = file\n",
    "\n",
    "    split_file_name_os = os.path.splitext(file)[0].split(\"_\")\n",
    "    \n",
    "    # 과목\n",
    "    subject = split_file_name_os[0]\n",
    "    # 문제 번호호\n",
    "    question_number = split_file_name_os[-1]\n",
    "\n",
    "    rows = []\n",
    "\n",
    "    for idx in range(1, len(split_file_name_os)-1):\n",
    "        # 문제 타입\n",
    "        if split_file_name_os[idx] in question_type_set:\n",
    "            question_type = split_file_name_os[idx]\n",
    "        # 문제 레벨\n",
    "        elif split_file_name_os[idx] in question_level_set:\n",
    "            question_level = split_file_name_os[idx]\n",
    "        # 타임존\n",
    "        elif split_file_name_os[idx] in time_zone_set:\n",
    "            time_zone = split_file_name_os[idx]\n",
    "\n",
    "\n",
    "    rows.append({\n",
    "        \"file_name\":full_file_name, \n",
    "        \"subject\":subject, \n",
    "        \"q_number\":question_number, \n",
    "        \"q_type\":question_type, \n",
    "        \"q_level\":question_level,\n",
    "        \"time_zone\":time_zone, \n",
    "        # \"a_file_name\": \"\".join([\"_\".join(split_file_name_os), \"_MS.docx\"])\n",
    "    })\n",
    "\n",
    "    df = pd.concat([df, pd.DataFrame(rows)], ignore_index=True)"
   ]
  },
  {
   "cell_type": "code",
   "execution_count": 94,
   "metadata": {},
   "outputs": [],
   "source": [
    "df.to_csv(\"categories.csv\", index=False)"
   ]
  },
  {
   "cell_type": "code",
   "execution_count": null,
   "metadata": {},
   "outputs": [],
   "source": []
  },
  {
   "cell_type": "code",
   "execution_count": null,
   "metadata": {},
   "outputs": [],
   "source": []
  },
  {
   "cell_type": "code",
   "execution_count": null,
   "metadata": {},
   "outputs": [],
   "source": []
  },
  {
   "cell_type": "code",
   "execution_count": null,
   "metadata": {},
   "outputs": [],
   "source": []
  },
  {
   "cell_type": "code",
   "execution_count": null,
   "metadata": {},
   "outputs": [],
   "source": []
  },
  {
   "cell_type": "code",
   "execution_count": null,
   "metadata": {},
   "outputs": [],
   "source": []
  }
 ],
 "metadata": {
  "kernelspec": {
   "display_name": "msword",
   "language": "python",
   "name": "python3"
  },
  "language_info": {
   "codemirror_mode": {
    "name": "ipython",
    "version": 3
   },
   "file_extension": ".py",
   "mimetype": "text/x-python",
   "name": "python",
   "nbconvert_exporter": "python",
   "pygments_lexer": "ipython3",
   "version": "3.9.21"
  }
 },
 "nbformat": 4,
 "nbformat_minor": 2
}
