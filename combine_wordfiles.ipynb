{
 "cells": [
  {
   "cell_type": "markdown",
   "metadata": {},
   "source": [
    "# docxcompose를 이용한 word 문서 병합"
   ]
  },
  {
   "cell_type": "markdown",
   "metadata": {},
   "source": [
    "- pip install docxcompose\n",
    "- pip install pywin32"
   ]
  },
  {
   "cell_type": "code",
   "execution_count": 1,
   "metadata": {},
   "outputs": [],
   "source": [
    "import os\n",
    "from docxcompose.composer import Composer\n",
    "from docx import Document as Document_compose\n",
    "\n",
    "def combine_all_docx(full_dir, files_list):\n",
    "    \"\"\"\n",
    "    full_dir : 파일 전까지의 전체 절대경로로\n",
    "    files_list : 병합할 파일들의 list\n",
    "    \"\"\"\n",
    "\n",
    "    # master문서(첫 시작 문서) 설정\n",
    "    master = Document_compose(os.path.join(full_dir, f\"{files_list[0]}.docx\"))\n",
    "    # master문서를 composer에 할당\n",
    "    composer = Composer(master)\n",
    "\n",
    "    for i in range(1, len(files_list)):\n",
    "        # composer.doc.add_paragraph() # 한 칸 띄어쓰기 추가\n",
    "        composer.doc.add_page_break() # 다음 페이지로\n",
    "        doc_temp = Document_compose(os.path.join(full_dir, f\"{files_list[i]}.docx\")) # 다음 문서 가져오기\n",
    "        composer.append(doc_temp) # 가져온 temp문서 master문서에 append\n",
    "        \n",
    "    composer.save(\"outputs/combined_file.docx\")"
   ]
  },
  {
   "cell_type": "code",
   "execution_count": 4,
   "metadata": {},
   "outputs": [
    {
     "name": "stdout",
     "output_type": "stream",
     "text": [
      "d:\\YearDreamSchool-D\\python_projects\\msword_pjt\\word_files\\q\n",
      "d:\\YearDreamSchool-D\\python_projects\\msword_pjt\\word_files\\a\n"
     ]
    }
   ],
   "source": [
    "file_list = [\"word_files/Q_1.docx\", \"word_files/Q_2.docx\", \"word_files/Q_3.docx\", \"word_files/Q_4.docx\"]\n",
    "\n",
    "a_files = [\"A_short_01\", \"A_short_02\", \"A_short_03\", \"A_short_04\", \"A_short_05\", \"A_short_06\"]\n",
    "q_files = [\"Q_short_01\", \"Q_short_02\", \"Q_short_03\", \"Q_short_04\", \"Q_short_05\", \"Q_short_06\", \"Q_short_07\", \"Q_short_08\", \"Q_short_09\", \"Q_short_10\"]\n",
    "\n",
    "\n",
    "# === 사용자 환경 설정 ===\n",
    "WORK_DIR       = os.getcwd()     \n",
    "Q_DIR     = os.path.join(WORK_DIR, \"word_files\", \"q\")\n",
    "A_DIR     = os.path.join(WORK_DIR, \"word_files\", \"a\")\n",
    "\n",
    "print(Q_DIR)\n",
    "print(A_DIR)"
   ]
  },
  {
   "cell_type": "code",
   "execution_count": 5,
   "metadata": {},
   "outputs": [],
   "source": [
    "master_file = os.path.join(Q_DIR, f\"{q_files[0]}.docx\")\n",
    "combine_all_docx(Q_DIR, q_files)\n",
    "\n",
    "# master_file = os.path.join(Q_DIR, f\"{a_files[0]}.docx\")\n",
    "# combine_all_docx(A_DIR, a_files)"
   ]
  },
  {
   "cell_type": "code",
   "execution_count": null,
   "metadata": {},
   "outputs": [],
   "source": []
  },
  {
   "cell_type": "code",
   "execution_count": null,
   "metadata": {},
   "outputs": [],
   "source": []
  }
 ],
 "metadata": {
  "kernelspec": {
   "display_name": "msword",
   "language": "python",
   "name": "python3"
  },
  "language_info": {
   "codemirror_mode": {
    "name": "ipython",
    "version": 3
   },
   "file_extension": ".py",
   "mimetype": "text/x-python",
   "name": "python",
   "nbconvert_exporter": "python",
   "pygments_lexer": "ipython3",
   "version": "3.9.21"
  }
 },
 "nbformat": 4,
 "nbformat_minor": 2
}
