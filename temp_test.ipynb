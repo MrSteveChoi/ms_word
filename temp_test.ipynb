{
 "cells": [
  {
   "cell_type": "code",
   "execution_count": null,
   "metadata": {},
   "outputs": [],
   "source": [
    "# 1. get_document_info 에서 처음 붙여넣을 문서의 사용 가능한 픽셀 확인 (내용 길이 pt도 알아야 함)\n",
    "# 2. 붙여 넣을 파일들의 내용 길이 pt를 확인\n",
    "# 3. \"사용 가능한 pt\"와 붙일 내용의 pt를 확인해서 페이지를 벗어날 경우 다음 페이지에 새로 붙여넣음"
   ]
  },
  {
   "cell_type": "code",
   "execution_count": 3,
   "metadata": {},
   "outputs": [
    {
     "data": {
      "text/plain": [
       "[1, 2, 3, 4]"
      ]
     },
     "execution_count": 3,
     "metadata": {},
     "output_type": "execute_result"
    }
   ],
   "source": [
    "a = [1, 2, 3]\n",
    "\n",
    "a.extend([4])\n",
    "\n",
    "a"
   ]
  },
  {
   "cell_type": "markdown",
   "metadata": {},
   "source": [
    "필요한건\n",
    "\n",
    "맨 처음 파일\n",
    "- 문서에서 사용 가능한 pt => 전체 길이 - (위 + 아래 마진)\n",
    "- 행간 pt\n",
    "- 문서 내 내용의 pt\n",
    "\n",
    "나머지 문서들\n",
    "- 문서 내 내용의 pt\n",
    "\n",
    "문제 + 행간pt + 문제 의 pt가 사용 가능한 pt를 넘어가는지 확인인"
   ]
  },
  {
   "cell_type": "code",
   "execution_count": null,
   "metadata": {},
   "outputs": [],
   "source": [
    "\"/c/anaconda3/etc/profile.d/conda.sh\"\n",
    "\n",
    "echo \". /c/anaconda3/etc/profile.d/conda.sh\" >> ~/.bashrc"
   ]
  },
  {
   "cell_type": "code",
   "execution_count": 7,
   "metadata": {},
   "outputs": [
    {
     "data": {
      "text/plain": [
       "1"
      ]
     },
     "execution_count": 7,
     "metadata": {},
     "output_type": "execute_result"
    }
   ],
   "source": [
    "n = 3\n",
    "\n",
    "board = [[False for _ in range(n)] for _ in range(n)]\n",
    "\n",
    "board[0][0] = True\n",
    "\n",
    "sum(board[0])"
   ]
  },
  {
   "cell_type": "code",
   "execution_count": 10,
   "metadata": {},
   "outputs": [
    {
     "name": "stdout",
     "output_type": "stream",
     "text": [
      "{1, 2, 3}\n",
      "1\n",
      "2\n",
      "3\n"
     ]
    }
   ],
   "source": [
    "a = set([1, 2, 3])\n",
    "\n",
    "\n",
    "print(a)\n",
    "for i in a:\n",
    "    print(i)"
   ]
  },
  {
   "cell_type": "code",
   "execution_count": 3,
   "metadata": {},
   "outputs": [
    {
     "ename": "AttributeError",
     "evalue": "'DictReader' object has no attribute 'row'",
     "output_type": "error",
     "traceback": [
      "\u001b[1;31m---------------------------------------------------------------------------\u001b[0m",
      "\u001b[1;31mAttributeError\u001b[0m                            Traceback (most recent call last)",
      "Cell \u001b[1;32mIn[3], line 11\u001b[0m\n\u001b[0;32m      6\u001b[0m reader \u001b[38;5;241m=\u001b[39m csv\u001b[38;5;241m.\u001b[39mDictReader(f)\n\u001b[0;32m      7\u001b[0m \u001b[38;5;66;03m# DictReader 사용 시, 기본적으로 첫 줄이 헤더로 인식됨\u001b[39;00m\n\u001b[0;32m      8\u001b[0m \u001b[38;5;66;03m# 만약 CSV에 헤더가 있는 형태라면 fieldnames 설정을 빼고 사용하시거나\u001b[39;00m\n\u001b[0;32m      9\u001b[0m \u001b[38;5;66;03m# 첫 줄을 건너뛰는 식으로 처리해 주세요.\u001b[39;00m\n\u001b[1;32m---> 11\u001b[0m \u001b[43mreader\u001b[49m\u001b[38;5;241;43m.\u001b[39;49m\u001b[43mrow\u001b[49m\n\u001b[0;32m     13\u001b[0m \u001b[38;5;28;01mfor\u001b[39;00m row \u001b[38;5;129;01min\u001b[39;00m reader:\n\u001b[0;32m     14\u001b[0m     \u001b[38;5;66;03m# 필요에 따라 문자열 trim, lower 등 처리 가능\u001b[39;00m\n\u001b[0;32m     15\u001b[0m     data\u001b[38;5;241m.\u001b[39mappend({\n\u001b[0;32m     16\u001b[0m         \u001b[38;5;124m\"\u001b[39m\u001b[38;5;124mfile_name\u001b[39m\u001b[38;5;124m\"\u001b[39m: row[\u001b[38;5;124m\"\u001b[39m\u001b[38;5;124mfile_name\u001b[39m\u001b[38;5;124m\"\u001b[39m],\n\u001b[0;32m     17\u001b[0m         \u001b[38;5;124m\"\u001b[39m\u001b[38;5;124myear\u001b[39m\u001b[38;5;124m\"\u001b[39m: row[\u001b[38;5;124m\"\u001b[39m\u001b[38;5;124myear\u001b[39m\u001b[38;5;124m\"\u001b[39m],\n\u001b[0;32m     18\u001b[0m         \u001b[38;5;124m\"\u001b[39m\u001b[38;5;124mdifficulty\u001b[39m\u001b[38;5;124m\"\u001b[39m: row[\u001b[38;5;124m\"\u001b[39m\u001b[38;5;124mdifficulty\u001b[39m\u001b[38;5;124m\"\u001b[39m],\n\u001b[0;32m     19\u001b[0m         \u001b[38;5;124m\"\u001b[39m\u001b[38;5;124msubject\u001b[39m\u001b[38;5;124m\"\u001b[39m: row[\u001b[38;5;124m\"\u001b[39m\u001b[38;5;124msubject\u001b[39m\u001b[38;5;124m\"\u001b[39m]\n\u001b[0;32m     20\u001b[0m     })\n",
      "\u001b[1;31mAttributeError\u001b[0m: 'DictReader' object has no attribute 'row'"
     ]
    }
   ],
   "source": [
    "import csv\n",
    "\n",
    "data = []\n",
    "with open(\"./csv_file/categories.csv\", newline='', encoding='utf-8') as f:\n",
    "    # reader = csv.DictReader(f, fieldnames=[\"file_name\", \"year\", \"difficulty\", \"subject\"])\n",
    "    reader = csv.DictReader(f)\n",
    "    # DictReader 사용 시, 기본적으로 첫 줄이 헤더로 인식됨\n",
    "    # 만약 CSV에 헤더가 있는 형태라면 fieldnames 설정을 빼고 사용하시거나\n",
    "    # 첫 줄을 건너뛰는 식으로 처리해 주세요.\n",
    "\n",
    "    reader.row\n",
    "\n",
    "    for row in reader:\n",
    "        # 필요에 따라 문자열 trim, lower 등 처리 가능\n",
    "        data.append({\n",
    "            \"file_name\": row[\"file_name\"],\n",
    "            \"year\": row[\"year\"],\n",
    "            \"difficulty\": row[\"difficulty\"],\n",
    "            \"subject\": row[\"subject\"]\n",
    "        })"
   ]
  },
  {
   "cell_type": "code",
   "execution_count": 11,
   "metadata": {},
   "outputs": [
    {
     "data": {
      "text/plain": [
       "[{'file_name': 'file1.docx',\n",
       "  'year': '2017',\n",
       "  'difficulty': 'hard',\n",
       "  'subject': 'math'},\n",
       " {'file_name': 'file2.docx',\n",
       "  'year': '2018',\n",
       "  'difficulty': 'easy',\n",
       "  'subject': 'science'},\n",
       " {'file_name': 'file3.docx',\n",
       "  'year': '2017',\n",
       "  'difficulty': 'medium',\n",
       "  'subject': 'math'},\n",
       " {'file_name': 'file4.docx',\n",
       "  'year': '2019',\n",
       "  'difficulty': 'hard',\n",
       "  'subject': 'english'}]"
      ]
     },
     "execution_count": 11,
     "metadata": {},
     "output_type": "execute_result"
    }
   ],
   "source": [
    "data"
   ]
  },
  {
   "cell_type": "code",
   "execution_count": 17,
   "metadata": {},
   "outputs": [],
   "source": [
    "import os\n",
    "from pathlib import Path"
   ]
  },
  {
   "cell_type": "code",
   "execution_count": 19,
   "metadata": {},
   "outputs": [
    {
     "name": "stdout",
     "output_type": "stream",
     "text": [
      "D:\\YearDreamSchool-D\\python_projects\\msword_pjt\\word_files\\test_word\\test.txt\n"
     ]
    }
   ],
   "source": [
    "a = \"D:/YearDreamSchool-D/python_projects/msword_pjt/word_files/test_word\"\n",
    "b = \"test.txt\"\n",
    "\n",
    "print(Path(a) / b)"
   ]
  },
  {
   "cell_type": "code",
   "execution_count": 1,
   "metadata": {},
   "outputs": [
    {
     "name": "stdout",
     "output_type": "stream",
     "text": [
      "c:\\Users\\CHY\\.conda\\envs\\msword\n"
     ]
    }
   ],
   "source": [
    "import sys\n",
    "print(sys.prefix)\n"
   ]
  },
  {
   "cell_type": "code",
   "execution_count": 3,
   "metadata": {},
   "outputs": [
    {
     "name": "stdout",
     "output_type": "stream",
     "text": [
      "c:\\Users\\CHY\\.conda\\envs\\msword\\lib\\site-packages\\pandas\n"
     ]
    }
   ],
   "source": [
    "import pandas\n",
    "print(pandas.__path__[0])\n"
   ]
  },
  {
   "cell_type": "code",
   "execution_count": null,
   "metadata": {},
   "outputs": [],
   "source": [
    "615 WARNING: Failed to collect submodules for 'pandas.tests.extension.base' because importing 'pandas.tests.extension.base' raised: ModuleNotFoundError: No module named 'pytest'\n",
    "\n",
    "34464 WARNING: Hidden import \"importlib_resources.trees\" not found!\n",
    "34464 WARNING: Hidden import \"jinja2\" not found!\n",
    "\n",
    "40760 WARNING: Library not found: could not resolve 'msvcp140-0f2ea95580b32bcfc81c235d5751ce78.dll', dependency of 'C:\\\\Users\\\\CHY\\\\.conda\\\\envs\\\\msword\\\\lib\\\\site-packages\\\\pandas\\\\_libs\\\\window\\\\aggregations.cp39-win_amd64.pyd'."
   ]
  },
  {
   "cell_type": "code",
   "execution_count": null,
   "metadata": {},
   "outputs": [],
   "source": [
    "pyinstaller --onefile --clean --add-binary \"C:\\Users\\CHY\\.conda\\envs\\msword\\Lib\\site-packages\\pandas.libs\\msvcp140-0f2ea95580b32bcfc81c235d5751ce78.dll;.\" main.py\n"
   ]
  },
  {
   "cell_type": "code",
   "execution_count": null,
   "metadata": {},
   "outputs": [],
   "source": []
  },
  {
   "cell_type": "code",
   "execution_count": 5,
   "metadata": {},
   "outputs": [
    {
     "data": {
      "text/plain": [
       "'Math_HL_1B_Thermal energy transfer_TZ0_P05_MS.docx'"
      ]
     },
     "execution_count": 5,
     "metadata": {},
     "output_type": "execute_result"
    }
   ],
   "source": [
    "exe_dir = os.getcwd()\n",
    "split_dir = os.path.join(exe_dir, \"split\")\n",
    "category_csv_dir = os.path.join(exe_dir, \"csv_file/categories.csv\")"
   ]
  },
  {
   "cell_type": "code",
   "execution_count": null,
   "metadata": {},
   "outputs": [],
   "source": [
    "def on_merge_clicked(self):\n",
    "        \"\"\"\n",
    "        \"병합\" 버튼을 누르면,\n",
    "        1) 현재 선택된 파일 확인\n",
    "        2) group_docs_by_page(base_path, file_list) 함수 호출\n",
    "        \"\"\"\n",
    "        self.selected_files = [\n",
    "            fname for fname, cb in self.checkboxes.items() if cb.isChecked() and cb.isEnabled()\n",
    "        ]\n",
    "        \n",
    "        if not self.selected_files:\n",
    "            # 선택된 파일이 없다면 경고 메시지 등을 띄울 수 있음\n",
    "            QMessageBox.warning(self, \"경고\", \"병합할 파일이 없습니다.\")\n",
    "            return\n",
    "        \n",
    "        # ------------------### 임시로 사용 ###------------------\n",
    "        base_path = os.path.join(exe_dir, \"split\") # .exe 경로\n",
    "        # base_path = r\"D:\\YearDreamSchool-D\\python_projects\\msword_pjt\\split\" # .py 경로\n",
    "        \n",
    "        # group_docs_by_page 함수\n",
    "        files_list = group_docs_by_page(base_path, self.selected_files)\n",
    "        \n",
    "        # group화 된 list를 하나의 file로 병합\n",
    "        combine_all_docx(base_path, files_list)\n",
    "        # ------------------### 임시로 사용 ###------------------\n",
    "        \n",
    "        QMessageBox.information(self, \"알림\", \"병합이 완료되었습니다!\")"
   ]
  },
  {
   "cell_type": "markdown",
   "metadata": {},
   "source": [
    "프로그램 사용법.\n",
    "\n",
    "1) 프로그램을 사용할 때 문제가 생긴다면\n",
    "    - 프로그램을 실행할 때 같이 실행되는 검은색 프로그램창(이하 콘솔창)에 문제가 생길 때 출력되는 메세지를 확인해 주면 됨.\n",
    "    - 빠르게 지나가면서 꺼지는 경우에는 스마트폰으로 동영상을 촬영해서 보내주면 됨.(내가 일시정지해서 확인함 ㅋㅋ)\n",
    "    - 또한 문제가 생긴 경우에 사용한 파일과 했던 동작들을 자세히 알려줄수록 좋음.\n",
    "    - 궁금한게 있어도 편하게 질문하면 됨!\n",
    "\n",
    "2) 카테고리 분류 자동화에 대하여\n",
    "    - 현재 자동분류 기준\n",
    "        # 기본적으로 파일명에서 카테고리 분류는 언더바(\"_\")를 기준으로 확인.\n",
    "            *ex) Math_HL_B1_Thermal energy transfer_TZ0_p1.docx 일 때\n",
    "            [Math / HL / B1 / Thermal energy transfer / T20 / p1]\n",
    "            으로 나눠서 확인.\n",
    "\n",
    "        # 문제 형식\n",
    "        - 1A : 객관식 \n",
    "        - 1B : data 해석 문제 \n",
    "        - 2 : 주관식\n",
    "        [1A / 1B / 2 / A1 / B1] <- 설명을 들었을때는 1A, 1B였는데 A1, B1도 있었던것 같아서 일단 추가해 둠.\n",
    "\n",
    "        # 레벨 분류\n",
    "        - SL : standard level 탐구로 치면 사탐1 과탐1 정도 \n",
    "        - HL : high level 사탐2 과탐2 정도 느낌\n",
    "        [SL / HL]\n",
    "\n",
    "        # Timezone \n",
    "        [TZ0 / TZ1 / TZ2]\n",
    "\n",
    "        # 과목\n",
    "        - 파일명의 맨 처음 부분이 무조건 과목.\n",
    "        - 어떤 이름이 들어와도 파일명의 첫 부분(\"_\"로 나눠지기 전까지)\n",
    "\n",
    "        # 문제 번호\n",
    "        - 맨 마지막([-1]) -> 보통 p1등과 같이 되어있음.\n",
    "        - MS일 경우 답지 -> p1 대신 마지막이 _MS라면 답지로 인식\n",
    "\n",
    "    - 카테고리 자동분류는 미리 정해서 얘기해주면 얼마든지 추가 가능.\n",
    "    - 또한 수동으로 CSV파일의 새로운 column을 추가해도 원하는 카테고리를 추가 가능.(추가된 카테고리에 아무 내용도 없다면 카테고리 선택 시 \"nan\"(내용없음)으로 표시됨)\n",
    "    - 등록되어있지 않은 카테고리의 경우 자동분류에서는 무시됨.(자동분류를 원하는 카테고리가 있다면 얘기해주면 추가 가능)\n",
    "    - 파일명 안에서 카테고리의 순서는 기본적으로 상관없지만, **맨 처음이 과목, 맨 마지막이 문제 번호(혹은 정답파일 표시(_MS))만 가능!\n",
    "\n",
    "    \n",
    "3) 메인 윈도우 버튼 설명\n",
    "    1. 문제 분리\n",
    "        - 두 개 이상의 문제가 포함된 문제 및 정답지를 한 문제씩 분리한 후 csv_file/categories.csv 파일에 등록시켜주는 버튼.\n",
    "        - 문제를 나누는 기준은 첫 줄의 숫자로 된 문제번호와 문제 끝에 있는 [1] 표시로 문제를 구분함.(문제 번호나 [1] 표시가 없으면 구분 불가능!)\n",
    "        - 현재 등록되어 있는 카테고리를 자동으로 감지하여 등록하지만, 일정 규칙이 있음.\n",
    "            -> 파일명의 카테고리 분류는 언더바 (_)로 구분.\n",
    "            -> 파일명의 맨 앞은 무조건 과목 (Math, Phy 등)이고 어떤 과목을 넣어도 자동으로 추가함.\n",
    "            -> 파일명의 맨 뒤에 _MS표시가 있으면 정답파일로 알아서 인식.\n",
    "            \n",
    "        - 분리된 문제는 실행파일이 실행된 위치의 split폴더(없으면 자동생성)에 들어감.\n",
    "        - 분류된 카테고리는 마찬가지로 실행파일이 실행된 위치의 csv_file폴더(없으면 자동생성)의 categories.csv(없으면 자동생성)파일에 추가됨.\n",
    "            - 기존에 존재하던 csv파일이 있다면 해당 파일에 겹치지 않는 파일명에 한해서 내용이 추가됨.(기존 내용은 사라지지 않음)\n",
    "\n",
    "        - 문제 분리를 원하는 파일들을 특정 폴더(split폴더에 넣으면 안됨)에 넣어둔 후 [문제 분리 -> 해당 폴더 선택]하면 문제분리 및 카테고리 등록 시작.\n",
    "        - *문제를 등록할 때는 정답파일도 같이 등록해야 함! (그래야 병합 후 정답파일을 합칠 때 문제수와 맞춰짐)\n",
    "\n",
    "    2. DB 추가 버튼 설명\n",
    "        - 문제 분리가 필요없는(한 문제만 들어있는)파일 추가용 버튼.\n",
    "        - Phy_HL_B2_Greenhouse effect_p1 [3 marks] 같은 파일 안에 있는 제목(파란색 글씨로 쓰여있는 제목)은 지워야 정상 등록 가능.\n",
    "        - 등록을 원하는 문제 파일을 split 폴더에 넣은 후 [DB 추가 -> split폴더 선택]하여 문제 등록 가능.\n",
    "        - 문제 분리때와 마찬가지로 기존에 존재하던 csv파일이 있다면 해당 파일에 겹치지 않는 파일명에 한해서 내용이 추가됨.(기존 내용은 사라지지 않음)\n",
    "        - *문제를 등록할 때는 정답파일도 같이 등록해야 함! (그래야 병합 후 정답파일을 합칠 때 문제수와 맞춰짐)\n",
    "\n",
    "    3. 카테고리 CSV 버튼 설명\n",
    "        - 프로그램(exe파일)이 실행된 위치의 csv_file 폴더 안의 ategories.csv파일을 읽어서 카테고리 선택화면을 출력.\n",
    "        - csv_file 폴더 안의 ategories.csv파일이 반드시 존재해야함!\n",
    "        - 버튼 클릭 후 원하는 카테고리의 체크박스(중복선택 가능)를 선택 후 Filter버튼을 누르면 해당 문제가 선택되고 OK버튼을 눌러 나가면 됨.\n",
    "    \n",
    "    4. 문제 선택 병합 버튼 설명\n",
    "        - 위에서 설명한 \"카테고리 CSV\"버튼을 눌러 원하는 카테고리의 파일들을 필터링 해야 버튼이 활성화 됨.\n",
    "        - 필터링 된 파일목록이 체크박스와 함께 나열됨. (회색으로 표시되는 파일명은 split폴더 안에 존재하지 않는 파일. CSV파일과 실제 파일이 일치하지 않음으로 확인 필요)\n",
    "        - 원하는 문제들의 체크박스를 선택 후 \"결과물 이름\"칸에 원하는 파일명을 입력.\n",
    "\n",
    "        4-1. 병합(채워서)\n",
    "            - 병합하려는 문제들의 길이를 계산해서 한 페이지 안에 여러 문제가 들어갈 수 있다면 같이 넣어서 병합해줌.\n",
    "            - *파이썬으로 워드파일 내부정보를 조회하는게 자유롭지 않아서 오차가 존재함. 문제 병합 후 확인 반드시 필요!\n",
    "\n",
    "        4-2. 병합(따로)\n",
    "            - 병합하려는 문제를 한 페이지당 하나씩 따로 넣어서 한 파일로 병합.\n",
    "            - *한 문제의 길이가 한 페이지 전체를 꽉 채울경우 병합과정에서 빈 페이지가 한 장씩 생기기도 함.\n",
    "\n",
    "        4-3. 정답도 같이 체크박스\n",
    "            - 선택한 문제들의 정답도 하나의 정답파일로 병합하여 출력.\n",
    "            - 기본값은 체크된 상태. 체크를 해제하면 정답파일은 병합되지 않고 문제만 병합됨.\n",
    "            - 병합된 정답파일은 한 페이지당 5개씩 정답지가 포함되며 \"결과물 이름\"의 뒤에 \"_MS\"가 붙은 상태로 만들어짐.\n",
    "            - 번호 리셋 체크박스를 체크 해제하면 정답지의 번호도 기존 번호를 그대로 사용.\n",
    "\n",
    "        4-4. 번호 리셋 체크박스\n",
    "            - 병합하려는 문제들의 문제번호를 1부터 새로 지정하여 병합.\n",
    "            - 기본값은 체크된 상태. 체크를 해제하면 기존에 할당되어있던 원본 문제번호가 출력됨."
   ]
  },
  {
   "cell_type": "markdown",
   "metadata": {},
   "source": []
  }
 ],
 "metadata": {
  "kernelspec": {
   "display_name": "msword",
   "language": "python",
   "name": "python3"
  },
  "language_info": {
   "codemirror_mode": {
    "name": "ipython",
    "version": 3
   },
   "file_extension": ".py",
   "mimetype": "text/x-python",
   "name": "python",
   "nbconvert_exporter": "python",
   "pygments_lexer": "ipython3",
   "version": "3.9.21"
  }
 },
 "nbformat": 4,
 "nbformat_minor": 2
}
