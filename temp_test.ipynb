{
 "cells": [
  {
   "cell_type": "code",
   "execution_count": null,
   "metadata": {},
   "outputs": [],
   "source": [
    "# 1. get_document_info 에서 처음 붙여넣을 문서의 사용 가능한 픽셀 확인 (내용 길이 pt도 알아야 함)\n",
    "# 2. 붙여 넣을 파일들의 내용 길이 pt를 확인\n",
    "# 3. \"사용 가능한 pt\"와 붙일 내용의 pt를 확인해서 페이지를 벗어날 경우 다음 페이지에 새로 붙여넣음"
   ]
  },
  {
   "cell_type": "markdown",
   "metadata": {},
   "source": [
    "필요한건\n",
    "\n",
    "맨 처음 파일\n",
    "- 문서에서 사용 가능한 pt => 전체 길이 - (위 + 아래 마진)\n",
    "- 행간 pt\n",
    "- 문서 내 내용의 pt\n",
    "\n",
    "나머지 문서들\n",
    "- 문서 내 내용의 pt\n",
    "\n",
    "문제 + 행간pt + 문제 의 pt가 사용 가능한 pt를 넘어가는지 확인인"
   ]
  },
  {
   "cell_type": "code",
   "execution_count": null,
   "metadata": {},
   "outputs": [],
   "source": [
    "\"/c/anaconda3/etc/profile.d/conda.sh\"\n",
    "\n",
    "echo \". /c/anaconda3/etc/profile.d/conda.sh\" >> ~/.bashrc"
   ]
  },
  {
   "cell_type": "code",
   "execution_count": 7,
   "metadata": {},
   "outputs": [
    {
     "data": {
      "text/plain": [
       "1"
      ]
     },
     "execution_count": 7,
     "metadata": {},
     "output_type": "execute_result"
    }
   ],
   "source": [
    "n = 3\n",
    "\n",
    "board = [[False for _ in range(n)] for _ in range(n)]\n",
    "\n",
    "board[0][0] = True\n",
    "\n",
    "sum(board[0])"
   ]
  },
  {
   "cell_type": "code",
   "execution_count": 10,
   "metadata": {},
   "outputs": [
    {
     "name": "stdout",
     "output_type": "stream",
     "text": [
      "{1, 2, 3}\n",
      "1\n",
      "2\n",
      "3\n"
     ]
    }
   ],
   "source": [
    "a = set([1, 2, 3])\n",
    "\n",
    "\n",
    "print(a)\n",
    "for i in a:\n",
    "    print(i)"
   ]
  },
  {
   "cell_type": "code",
   "execution_count": 3,
   "metadata": {},
   "outputs": [
    {
     "ename": "AttributeError",
     "evalue": "'DictReader' object has no attribute 'row'",
     "output_type": "error",
     "traceback": [
      "\u001b[1;31m---------------------------------------------------------------------------\u001b[0m",
      "\u001b[1;31mAttributeError\u001b[0m                            Traceback (most recent call last)",
      "Cell \u001b[1;32mIn[3], line 11\u001b[0m\n\u001b[0;32m      6\u001b[0m reader \u001b[38;5;241m=\u001b[39m csv\u001b[38;5;241m.\u001b[39mDictReader(f)\n\u001b[0;32m      7\u001b[0m \u001b[38;5;66;03m# DictReader 사용 시, 기본적으로 첫 줄이 헤더로 인식됨\u001b[39;00m\n\u001b[0;32m      8\u001b[0m \u001b[38;5;66;03m# 만약 CSV에 헤더가 있는 형태라면 fieldnames 설정을 빼고 사용하시거나\u001b[39;00m\n\u001b[0;32m      9\u001b[0m \u001b[38;5;66;03m# 첫 줄을 건너뛰는 식으로 처리해 주세요.\u001b[39;00m\n\u001b[1;32m---> 11\u001b[0m \u001b[43mreader\u001b[49m\u001b[38;5;241;43m.\u001b[39;49m\u001b[43mrow\u001b[49m\n\u001b[0;32m     13\u001b[0m \u001b[38;5;28;01mfor\u001b[39;00m row \u001b[38;5;129;01min\u001b[39;00m reader:\n\u001b[0;32m     14\u001b[0m     \u001b[38;5;66;03m# 필요에 따라 문자열 trim, lower 등 처리 가능\u001b[39;00m\n\u001b[0;32m     15\u001b[0m     data\u001b[38;5;241m.\u001b[39mappend({\n\u001b[0;32m     16\u001b[0m         \u001b[38;5;124m\"\u001b[39m\u001b[38;5;124mfile_name\u001b[39m\u001b[38;5;124m\"\u001b[39m: row[\u001b[38;5;124m\"\u001b[39m\u001b[38;5;124mfile_name\u001b[39m\u001b[38;5;124m\"\u001b[39m],\n\u001b[0;32m     17\u001b[0m         \u001b[38;5;124m\"\u001b[39m\u001b[38;5;124myear\u001b[39m\u001b[38;5;124m\"\u001b[39m: row[\u001b[38;5;124m\"\u001b[39m\u001b[38;5;124myear\u001b[39m\u001b[38;5;124m\"\u001b[39m],\n\u001b[0;32m     18\u001b[0m         \u001b[38;5;124m\"\u001b[39m\u001b[38;5;124mdifficulty\u001b[39m\u001b[38;5;124m\"\u001b[39m: row[\u001b[38;5;124m\"\u001b[39m\u001b[38;5;124mdifficulty\u001b[39m\u001b[38;5;124m\"\u001b[39m],\n\u001b[0;32m     19\u001b[0m         \u001b[38;5;124m\"\u001b[39m\u001b[38;5;124msubject\u001b[39m\u001b[38;5;124m\"\u001b[39m: row[\u001b[38;5;124m\"\u001b[39m\u001b[38;5;124msubject\u001b[39m\u001b[38;5;124m\"\u001b[39m]\n\u001b[0;32m     20\u001b[0m     })\n",
      "\u001b[1;31mAttributeError\u001b[0m: 'DictReader' object has no attribute 'row'"
     ]
    }
   ],
   "source": [
    "import csv\n",
    "\n",
    "data = []\n",
    "with open(\"./csv_file/categories.csv\", newline='', encoding='utf-8') as f:\n",
    "    # reader = csv.DictReader(f, fieldnames=[\"file_name\", \"year\", \"difficulty\", \"subject\"])\n",
    "    reader = csv.DictReader(f)\n",
    "    # DictReader 사용 시, 기본적으로 첫 줄이 헤더로 인식됨\n",
    "    # 만약 CSV에 헤더가 있는 형태라면 fieldnames 설정을 빼고 사용하시거나\n",
    "    # 첫 줄을 건너뛰는 식으로 처리해 주세요.\n",
    "\n",
    "    reader.row\n",
    "\n",
    "    for row in reader:\n",
    "        # 필요에 따라 문자열 trim, lower 등 처리 가능\n",
    "        data.append({\n",
    "            \"file_name\": row[\"file_name\"],\n",
    "            \"year\": row[\"year\"],\n",
    "            \"difficulty\": row[\"difficulty\"],\n",
    "            \"subject\": row[\"subject\"]\n",
    "        })"
   ]
  },
  {
   "cell_type": "code",
   "execution_count": 11,
   "metadata": {},
   "outputs": [
    {
     "data": {
      "text/plain": [
       "[{'file_name': 'file1.docx',\n",
       "  'year': '2017',\n",
       "  'difficulty': 'hard',\n",
       "  'subject': 'math'},\n",
       " {'file_name': 'file2.docx',\n",
       "  'year': '2018',\n",
       "  'difficulty': 'easy',\n",
       "  'subject': 'science'},\n",
       " {'file_name': 'file3.docx',\n",
       "  'year': '2017',\n",
       "  'difficulty': 'medium',\n",
       "  'subject': 'math'},\n",
       " {'file_name': 'file4.docx',\n",
       "  'year': '2019',\n",
       "  'difficulty': 'hard',\n",
       "  'subject': 'english'}]"
      ]
     },
     "execution_count": 11,
     "metadata": {},
     "output_type": "execute_result"
    }
   ],
   "source": [
    "data"
   ]
  },
  {
   "cell_type": "code",
   "execution_count": 17,
   "metadata": {},
   "outputs": [],
   "source": [
    "import os\n",
    "from pathlib import Path"
   ]
  },
  {
   "cell_type": "code",
   "execution_count": 19,
   "metadata": {},
   "outputs": [
    {
     "name": "stdout",
     "output_type": "stream",
     "text": [
      "D:\\YearDreamSchool-D\\python_projects\\msword_pjt\\word_files\\test_word\\test.txt\n"
     ]
    }
   ],
   "source": [
    "a = \"D:/YearDreamSchool-D/python_projects/msword_pjt/word_files/test_word\"\n",
    "b = \"test.txt\"\n",
    "\n",
    "print(Path(a) / b)"
   ]
  },
  {
   "cell_type": "code",
   "execution_count": 1,
   "metadata": {},
   "outputs": [
    {
     "name": "stdout",
     "output_type": "stream",
     "text": [
      "c:\\Users\\CHY\\.conda\\envs\\msword\n"
     ]
    }
   ],
   "source": [
    "import sys\n",
    "print(sys.prefix)\n"
   ]
  },
  {
   "cell_type": "code",
   "execution_count": 3,
   "metadata": {},
   "outputs": [
    {
     "name": "stdout",
     "output_type": "stream",
     "text": [
      "c:\\Users\\CHY\\.conda\\envs\\msword\\lib\\site-packages\\pandas\n"
     ]
    }
   ],
   "source": [
    "import pandas\n",
    "print(pandas.__path__[0])\n"
   ]
  },
  {
   "cell_type": "code",
   "execution_count": null,
   "metadata": {},
   "outputs": [],
   "source": [
    "615 WARNING: Failed to collect submodules for 'pandas.tests.extension.base' because importing 'pandas.tests.extension.base' raised: ModuleNotFoundError: No module named 'pytest'\n",
    "\n",
    "34464 WARNING: Hidden import \"importlib_resources.trees\" not found!\n",
    "34464 WARNING: Hidden import \"jinja2\" not found!\n",
    "\n",
    "40760 WARNING: Library not found: could not resolve 'msvcp140-0f2ea95580b32bcfc81c235d5751ce78.dll', dependency of 'C:\\\\Users\\\\CHY\\\\.conda\\\\envs\\\\msword\\\\lib\\\\site-packages\\\\pandas\\\\_libs\\\\window\\\\aggregations.cp39-win_amd64.pyd'."
   ]
  },
  {
   "cell_type": "code",
   "execution_count": null,
   "metadata": {},
   "outputs": [],
   "source": [
    "pyinstaller --onefile --clean --add-binary \"C:\\Users\\CHY\\.conda\\envs\\msword\\Lib\\site-packages\\pandas.libs\\msvcp140-0f2ea95580b32bcfc81c235d5751ce78.dll;.\" main.py\n"
   ]
  }
 ],
 "metadata": {
  "kernelspec": {
   "display_name": "msword",
   "language": "python",
   "name": "python3"
  },
  "language_info": {
   "codemirror_mode": {
    "name": "ipython",
    "version": 3
   },
   "file_extension": ".py",
   "mimetype": "text/x-python",
   "name": "python",
   "nbconvert_exporter": "python",
   "pygments_lexer": "ipython3",
   "version": "3.9.21"
  }
 },
 "nbformat": 4,
 "nbformat_minor": 2
}
